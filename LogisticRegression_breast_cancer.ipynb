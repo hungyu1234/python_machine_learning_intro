{
 "cells": [
  {
   "cell_type": "code",
   "execution_count": 1,
   "metadata": {},
   "outputs": [],
   "source": [
    "import pandas as pd"
   ]
  },
  {
   "cell_type": "code",
   "execution_count": 2,
   "metadata": {},
   "outputs": [],
   "source": [
    "from sklearn.preprocessing import StandardScaler\n",
    "from sklearn.model_selection import train_test_split\n",
    "\n",
    "def feature_scaling(datasets):\n",
    "    scaler = StandardScaler() #피처 분포 변환\n",
    "    data_scaled = scaler.fit_transform(datasets.data)\n",
    "    \n",
    "    X_train, X_test, y_train, y_test = train_test_split(data_scaled, datasets.target, test_size = 0.3, random_state = 0)\n",
    "    \n",
    "    class data:\n",
    "        pass\n",
    "    \n",
    "    data = data()\n",
    "    data.data_scaled = data_scaled\n",
    "    data.X_train = X_train\n",
    "    data.X_test = X_test\n",
    "    data.y_train = y_train\n",
    "    data.y_test = y_test\n",
    "    \n",
    "    return data"
   ]
  },
  {
   "cell_type": "code",
   "execution_count": 3,
   "metadata": {},
   "outputs": [],
   "source": [
    "from sklearn.linear_model import LogisticRegression\n",
    "from sklearn.metrics import accuracy_score, roc_auc_score\n",
    "\n",
    "def Logistic_Regression(data):\n",
    "    lr_clf = LogisticRegression()\n",
    "    lr_clf.fit(data.X_train, data.y_train)\n",
    "    lr_preds = lr_clf.predict(data.X_test)\n",
    "    \n",
    "    print('accuracy: {0:.3f}'.format(accuracy_score(data.y_test, lr_preds)))\n",
    "    print('roc_auc: {0:.3f}'.format(roc_auc_score(data.y_test, lr_preds)))\n",
    "    \n",
    "    return lr_clf"
   ]
  },
  {
   "cell_type": "code",
   "execution_count": 4,
   "metadata": {},
   "outputs": [],
   "source": [
    "from sklearn.model_selection import GridSearchCV\n",
    "\n",
    "def find_hyper_parameters(datasets, data, classifier):\n",
    "    params = {'penalty': ['l2', 'l1'],\n",
    "         'C': [0.01, 0.1, 1, 1, 5, 10]}\n",
    "\n",
    "    grid_clf = GridSearchCV(classifier, param_grid = params, scoring = 'accuracy', cv = 3)\n",
    "    grid_clf.fit(data.data_scaled, datasets.target)\n",
    "    print('최적 하이퍼 파라미터:{0}, 최적 평균 정확도:{1:.3f}'.format(grid_clf.best_params_, \n",
    "                                                  grid_clf.best_score_))"
   ]
  },
  {
   "cell_type": "code",
   "execution_count": 5,
   "metadata": {},
   "outputs": [
    {
     "name": "stdout",
     "output_type": "stream",
     "text": [
      "accuracy: 0.977\n",
      "roc_auc: 0.972\n",
      "최적 하이퍼 파라미터:{'C': 1, 'penalty': 'l2'}, 최적 평균 정확도:0.975\n"
     ]
    }
   ],
   "source": [
    "#main\n",
    "from sklearn.datasets import load_breast_cancer\n",
    "import warnings\n",
    "warnings.filterwarnings('ignore')\n",
    "\n",
    "cancer = load_breast_cancer()\n",
    "data = feature_scaling(cancer)\n",
    "classifier = Logistic_Regression(data)\n",
    "find_hyper_parameters(cancer, data, classifier)"
   ]
  }
 ],
 "metadata": {
  "kernelspec": {
   "display_name": "Python 3",
   "language": "python",
   "name": "python3"
  },
  "language_info": {
   "codemirror_mode": {
    "name": "ipython",
    "version": 3
   },
   "file_extension": ".py",
   "mimetype": "text/x-python",
   "name": "python",
   "nbconvert_exporter": "python",
   "pygments_lexer": "ipython3",
   "version": "3.7.6"
  }
 },
 "nbformat": 4,
 "nbformat_minor": 2
}
